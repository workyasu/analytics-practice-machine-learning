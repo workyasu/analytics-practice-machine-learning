{
  "nbformat": 4,
  "nbformat_minor": 0,
  "metadata": {
    "colab": {
      "name": "bank.ipynb",
      "version": "0.3.2",
      "provenance": []
    },
    "kernelspec": {
      "name": "python3",
      "display_name": "Python 3"
    }
  },
  "cells": [
    {
      "cell_type": "markdown",
      "metadata": {
        "id": "view-in-github",
        "colab_type": "text"
      },
      "source": [
        "[View in Colaboratory](https://colab.research.google.com/github/workyasu/analytics-practice-machine-learning/blob/master/bank.ipynb)"
      ]
    },
    {
      "metadata": {
        "id": "jpEXJexyKTH8",
        "colab_type": "code",
        "colab": {}
      },
      "cell_type": "code",
      "source": [
        "import pandas as pd\n",
        "import numpy as np\n",
        "from sklearn.cross_validation import train_test_split"
      ],
      "execution_count": 0,
      "outputs": []
    },
    {
      "metadata": {
        "id": "6FeH6l0XMqY8",
        "colab_type": "text"
      },
      "cell_type": "markdown",
      "source": [
        "##Google Driveの環境構築"
      ]
    },
    {
      "metadata": {
        "id": "BjoztGjBLlos",
        "colab_type": "code",
        "colab": {}
      },
      "cell_type": "code",
      "source": [
        "# google driveのファイルを使う時に使用\n",
        "!pip install -U -q PyDrive\n",
        "from pydrive.auth import GoogleAuth\n",
        "from pydrive.drive import GoogleDrive\n",
        "from google.colab import auth\n",
        "from oauth2client.client import GoogleCredentials"
      ],
      "execution_count": 0,
      "outputs": []
    },
    {
      "metadata": {
        "id": "mNTY8pyCMtaS",
        "colab_type": "text"
      },
      "cell_type": "markdown",
      "source": [
        "## Google Driveからデータセットの読み込み"
      ]
    },
    {
      "metadata": {
        "id": "YcFKzalSLpx0",
        "colab_type": "code",
        "colab": {
          "base_uri": "https://localhost:8080/",
          "height": 224
        },
        "outputId": "ac992e79-6520-4cfd-db91-cdc96772ba6f"
      },
      "cell_type": "code",
      "source": [
        "# google check auth\n",
        "auth.authenticate_user()\n",
        "gauth = GoogleAuth()\n",
        "gauth.credentials = GoogleCredentials.get_application_default()\n",
        "drive = GoogleDrive(gauth)\n",
        "\n",
        "# google driveのファイル取得\n",
        "downloaded = drive.CreateFile({'id':'1AIbCQfoWtvDG3ToZ7PADLyWUbuq_QQAK'})\n",
        "\n",
        "# Download the file to a local disk as 'sample.csv'.\n",
        "downloaded.GetContentFile('bank-full.csv')\n",
        "\n",
        "\n",
        "# データの読み込み\n",
        "bank = pd.read_csv(\"bank-full.csv\", sep=\";\")\n",
        "bank.head(5)"
      ],
      "execution_count": 45,
      "outputs": [
        {
          "output_type": "execute_result",
          "data": {
            "text/html": [
              "<div>\n",
              "<style scoped>\n",
              "    .dataframe tbody tr th:only-of-type {\n",
              "        vertical-align: middle;\n",
              "    }\n",
              "\n",
              "    .dataframe tbody tr th {\n",
              "        vertical-align: top;\n",
              "    }\n",
              "\n",
              "    .dataframe thead th {\n",
              "        text-align: right;\n",
              "    }\n",
              "</style>\n",
              "<table border=\"1\" class=\"dataframe\">\n",
              "  <thead>\n",
              "    <tr style=\"text-align: right;\">\n",
              "      <th></th>\n",
              "      <th>age</th>\n",
              "      <th>job</th>\n",
              "      <th>marital</th>\n",
              "      <th>education</th>\n",
              "      <th>default</th>\n",
              "      <th>balance</th>\n",
              "      <th>housing</th>\n",
              "      <th>loan</th>\n",
              "      <th>contact</th>\n",
              "      <th>day</th>\n",
              "      <th>month</th>\n",
              "      <th>duration</th>\n",
              "      <th>campaign</th>\n",
              "      <th>pdays</th>\n",
              "      <th>previous</th>\n",
              "      <th>poutcome</th>\n",
              "      <th>y</th>\n",
              "    </tr>\n",
              "  </thead>\n",
              "  <tbody>\n",
              "    <tr>\n",
              "      <th>0</th>\n",
              "      <td>58</td>\n",
              "      <td>management</td>\n",
              "      <td>married</td>\n",
              "      <td>tertiary</td>\n",
              "      <td>no</td>\n",
              "      <td>2143</td>\n",
              "      <td>yes</td>\n",
              "      <td>no</td>\n",
              "      <td>unknown</td>\n",
              "      <td>5</td>\n",
              "      <td>may</td>\n",
              "      <td>261</td>\n",
              "      <td>1</td>\n",
              "      <td>-1</td>\n",
              "      <td>0</td>\n",
              "      <td>unknown</td>\n",
              "      <td>no</td>\n",
              "    </tr>\n",
              "    <tr>\n",
              "      <th>1</th>\n",
              "      <td>44</td>\n",
              "      <td>technician</td>\n",
              "      <td>single</td>\n",
              "      <td>secondary</td>\n",
              "      <td>no</td>\n",
              "      <td>29</td>\n",
              "      <td>yes</td>\n",
              "      <td>no</td>\n",
              "      <td>unknown</td>\n",
              "      <td>5</td>\n",
              "      <td>may</td>\n",
              "      <td>151</td>\n",
              "      <td>1</td>\n",
              "      <td>-1</td>\n",
              "      <td>0</td>\n",
              "      <td>unknown</td>\n",
              "      <td>no</td>\n",
              "    </tr>\n",
              "    <tr>\n",
              "      <th>2</th>\n",
              "      <td>33</td>\n",
              "      <td>entrepreneur</td>\n",
              "      <td>married</td>\n",
              "      <td>secondary</td>\n",
              "      <td>no</td>\n",
              "      <td>2</td>\n",
              "      <td>yes</td>\n",
              "      <td>yes</td>\n",
              "      <td>unknown</td>\n",
              "      <td>5</td>\n",
              "      <td>may</td>\n",
              "      <td>76</td>\n",
              "      <td>1</td>\n",
              "      <td>-1</td>\n",
              "      <td>0</td>\n",
              "      <td>unknown</td>\n",
              "      <td>no</td>\n",
              "    </tr>\n",
              "    <tr>\n",
              "      <th>3</th>\n",
              "      <td>47</td>\n",
              "      <td>blue-collar</td>\n",
              "      <td>married</td>\n",
              "      <td>unknown</td>\n",
              "      <td>no</td>\n",
              "      <td>1506</td>\n",
              "      <td>yes</td>\n",
              "      <td>no</td>\n",
              "      <td>unknown</td>\n",
              "      <td>5</td>\n",
              "      <td>may</td>\n",
              "      <td>92</td>\n",
              "      <td>1</td>\n",
              "      <td>-1</td>\n",
              "      <td>0</td>\n",
              "      <td>unknown</td>\n",
              "      <td>no</td>\n",
              "    </tr>\n",
              "    <tr>\n",
              "      <th>4</th>\n",
              "      <td>33</td>\n",
              "      <td>unknown</td>\n",
              "      <td>single</td>\n",
              "      <td>unknown</td>\n",
              "      <td>no</td>\n",
              "      <td>1</td>\n",
              "      <td>no</td>\n",
              "      <td>no</td>\n",
              "      <td>unknown</td>\n",
              "      <td>5</td>\n",
              "      <td>may</td>\n",
              "      <td>198</td>\n",
              "      <td>1</td>\n",
              "      <td>-1</td>\n",
              "      <td>0</td>\n",
              "      <td>unknown</td>\n",
              "      <td>no</td>\n",
              "    </tr>\n",
              "  </tbody>\n",
              "</table>\n",
              "</div>"
            ],
            "text/plain": [
              "   age           job  marital  education default  balance housing loan  \\\n",
              "0   58    management  married   tertiary      no     2143     yes   no   \n",
              "1   44    technician   single  secondary      no       29     yes   no   \n",
              "2   33  entrepreneur  married  secondary      no        2     yes  yes   \n",
              "3   47   blue-collar  married    unknown      no     1506     yes   no   \n",
              "4   33       unknown   single    unknown      no        1      no   no   \n",
              "\n",
              "   contact  day month  duration  campaign  pdays  previous poutcome   y  \n",
              "0  unknown    5   may       261         1     -1         0  unknown  no  \n",
              "1  unknown    5   may       151         1     -1         0  unknown  no  \n",
              "2  unknown    5   may        76         1     -1         0  unknown  no  \n",
              "3  unknown    5   may        92         1     -1         0  unknown  no  \n",
              "4  unknown    5   may       198         1     -1         0  unknown  no  "
            ]
          },
          "metadata": {
            "tags": []
          },
          "execution_count": 45
        }
      ]
    },
    {
      "metadata": {
        "id": "0VxxTsrOLUOs",
        "colab_type": "code",
        "colab": {}
      },
      "cell_type": "code",
      "source": [
        "# 特徴量を構築する関数\n",
        "def makefeature(x):\n",
        "    # 数値変換のスケーリング\n",
        "    x = bank.drop('y',1)\n",
        "\n",
        "    # 特定の列を指定うして処理\n",
        "    cn_num = ['age','balance','day','duration','campaign','pdays','previous']\n",
        "    x_num = x[cn_num]\n",
        "    x[cn_num] = (x_num - x_num.mean())/x_num.std()\n",
        "\n",
        "    # ダミー変数への変換\n",
        "    x_dum = pd.get_dummies(x)\n",
        "    return x_dum"
      ],
      "execution_count": 0,
      "outputs": []
    },
    {
      "metadata": {
        "id": "I8nPTYY_LcEX",
        "colab_type": "code",
        "colab": {}
      },
      "cell_type": "code",
      "source": [
        "# 特徴量を取得\n",
        "features, label = makefeature(bank.drop('y',1)), bank.y"
      ],
      "execution_count": 0,
      "outputs": []
    },
    {
      "metadata": {
        "id": "JOrtA0wjaUow",
        "colab_type": "text"
      },
      "cell_type": "markdown",
      "source": [
        "## SVMによる予測"
      ]
    },
    {
      "metadata": {
        "id": "YFuvYs9JM4_w",
        "colab_type": "code",
        "colab": {}
      },
      "cell_type": "code",
      "source": [
        "from sklearn import svm\n",
        "from sklearn import metrics\n",
        "from sklearn.metrics import classification_report"
      ],
      "execution_count": 0,
      "outputs": []
    },
    {
      "metadata": {
        "id": "H0jO2OGZM7qQ",
        "colab_type": "code",
        "colab": {}
      },
      "cell_type": "code",
      "source": [
        "# 訓練データとテストデータの作成\n",
        "random_state = np.random.RandomState(123)\n",
        "x_train, x_test, y_train, y_test = train_test_split(features, label, test_size=.3, random_state=random_state)"
      ],
      "execution_count": 0,
      "outputs": []
    },
    {
      "metadata": {
        "id": "OdTwJm2qM9CV",
        "colab_type": "code",
        "colab": {
          "base_uri": "https://localhost:8080/",
          "height": 85
        },
        "outputId": "6cef8c23-7719-4ea5-952b-0c5db7bb5dfc"
      },
      "cell_type": "code",
      "source": [
        "# RBFカーネルのSVMによる予測モデル構築\n",
        "clf = svm.SVC()\n",
        "clf.fit(x_train, y_train)"
      ],
      "execution_count": 50,
      "outputs": [
        {
          "output_type": "execute_result",
          "data": {
            "text/plain": [
              "SVC(C=1.0, cache_size=200, class_weight=None, coef0=0.0,\n",
              "  decision_function_shape='ovr', degree=3, gamma='auto', kernel='rbf',\n",
              "  max_iter=-1, probability=False, random_state=None, shrinking=True,\n",
              "  tol=0.001, verbose=False)"
            ]
          },
          "metadata": {
            "tags": []
          },
          "execution_count": 50
        }
      ]
    },
    {
      "metadata": {
        "id": "vHMp_aLHM-UQ",
        "colab_type": "code",
        "colab": {
          "base_uri": "https://localhost:8080/",
          "height": 136
        },
        "outputId": "68b58a7b-ce88-4f9e-bdaf-07fd0c3189f0"
      },
      "cell_type": "code",
      "source": [
        "# クラスラベルの予測\n",
        "pred = clf.predict(x_test)\n",
        "\n",
        "# クラスごとのPrecision, Recall, F値, Accuracy算出\n",
        "print(metrics.classification_report(y_test, pred, target_names=['no', 'yes']))"
      ],
      "execution_count": 51,
      "outputs": [
        {
          "output_type": "stream",
          "text": [
            "             precision    recall  f1-score   support\n",
            "\n",
            "         no       0.91      0.98      0.94     11998\n",
            "        yes       0.65      0.28      0.39      1566\n",
            "\n",
            "avg / total       0.88      0.90      0.88     13564\n",
            "\n"
          ],
          "name": "stdout"
        }
      ]
    },
    {
      "metadata": {
        "id": "YHSkyvjjaq8c",
        "colab_type": "text"
      },
      "cell_type": "markdown",
      "source": [
        "## Random Forestによる予測"
      ]
    },
    {
      "metadata": {
        "id": "4iPCRBqkzao5",
        "colab_type": "code",
        "colab": {}
      },
      "cell_type": "code",
      "source": [
        "import numpy as np\n",
        "from sklearn import ensemble\n",
        "from sklearn import metrics"
      ],
      "execution_count": 0,
      "outputs": []
    },
    {
      "metadata": {
        "id": "Y64HHOq9awuS",
        "colab_type": "code",
        "colab": {}
      },
      "cell_type": "code",
      "source": [
        "# 訓練データとテストデータの作成\n",
        "random_state = np.random.RandomState(123)\n",
        "x_train, x_test, y_train, y_test = train_test_split(features, label, test_size=.3, random_state=random_state)"
      ],
      "execution_count": 0,
      "outputs": []
    },
    {
      "metadata": {
        "id": "jwzXqrWhax3v",
        "colab_type": "code",
        "colab": {
          "base_uri": "https://localhost:8080/",
          "height": 153
        },
        "outputId": "5ccdbc8d-abd3-471c-9ae1-aea5d1d36862"
      },
      "cell_type": "code",
      "source": [
        "# Random Forestによる予測モデル構築\n",
        "clf = ensemble.RandomForestClassifier(n_estimators=500, random_state=random_state)\n",
        "clf.fit(x_train, y_train)"
      ],
      "execution_count": 54,
      "outputs": [
        {
          "output_type": "execute_result",
          "data": {
            "text/plain": [
              "RandomForestClassifier(bootstrap=True, class_weight=None, criterion='gini',\n",
              "            max_depth=None, max_features='auto', max_leaf_nodes=None,\n",
              "            min_impurity_decrease=0.0, min_impurity_split=None,\n",
              "            min_samples_leaf=1, min_samples_split=2,\n",
              "            min_weight_fraction_leaf=0.0, n_estimators=500, n_jobs=1,\n",
              "            oob_score=False,\n",
              "            random_state=<mtrand.RandomState object at 0x7f82d0a14168>,\n",
              "            verbose=0, warm_start=False)"
            ]
          },
          "metadata": {
            "tags": []
          },
          "execution_count": 54
        }
      ]
    },
    {
      "metadata": {
        "id": "ek2Hza04azdY",
        "colab_type": "code",
        "colab": {
          "base_uri": "https://localhost:8080/",
          "height": 136
        },
        "outputId": "979fd8ca-900a-42c9-e340-cf5c462e0805"
      },
      "cell_type": "code",
      "source": [
        "# クラスラベルの予測\n",
        "pred = clf.predict(x_test)\n",
        "\n",
        "# クラスごとの適合率,再現率,F値,正解率の算出\n",
        "print(metrics.classification_report(y_test,pred,target_names=['no','yes']))"
      ],
      "execution_count": 55,
      "outputs": [
        {
          "output_type": "stream",
          "text": [
            "             precision    recall  f1-score   support\n",
            "\n",
            "         no       0.92      0.97      0.95     11998\n",
            "        yes       0.67      0.39      0.49      1566\n",
            "\n",
            "avg / total       0.89      0.91      0.90     13564\n",
            "\n"
          ],
          "name": "stdout"
        }
      ]
    },
    {
      "metadata": {
        "id": "Yy_AqWeleEMm",
        "colab_type": "code",
        "colab": {
          "base_uri": "https://localhost:8080/",
          "height": 1071
        },
        "outputId": "26ee2f53-13b9-4744-b58a-209be4703f38"
      },
      "cell_type": "code",
      "source": [
        "y_test"
      ],
      "execution_count": 67,
      "outputs": [
        {
          "output_type": "execute_result",
          "data": {
            "text/plain": [
              "7281     yes\n",
              "19469     no\n",
              "31637     no\n",
              "22484     no\n",
              "35919     no\n",
              "15644     no\n",
              "12619     no\n",
              "30249     no\n",
              "11489     no\n",
              "21513     no\n",
              "10535     no\n",
              "32198     no\n",
              "6932      no\n",
              "44816    yes\n",
              "22607     no\n",
              "44365     no\n",
              "15098     no\n",
              "15263    yes\n",
              "32340     no\n",
              "40989     no\n",
              "43280     no\n",
              "14295     no\n",
              "34445     no\n",
              "6259      no\n",
              "2261      no\n",
              "30975     no\n",
              "17353     no\n",
              "16699     no\n",
              "38618     no\n",
              "23687     no\n",
              "        ... \n",
              "4275      no\n",
              "5346      no\n",
              "25849     no\n",
              "21619     no\n",
              "849      yes\n",
              "42251     no\n",
              "35507     no\n",
              "261       no\n",
              "35072     no\n",
              "5533      no\n",
              "40606     no\n",
              "26538     no\n",
              "17665     no\n",
              "43463    yes\n",
              "6348      no\n",
              "40175    yes\n",
              "8132      no\n",
              "6049      no\n",
              "3135      no\n",
              "18001    yes\n",
              "17453     no\n",
              "14624     no\n",
              "365       no\n",
              "2539      no\n",
              "35405     no\n",
              "7839      no\n",
              "35466     no\n",
              "5695      no\n",
              "42570     no\n",
              "11282     no\n",
              "Name: y, Length: 13564, dtype: object"
            ]
          },
          "metadata": {
            "tags": []
          },
          "execution_count": 67
        }
      ]
    },
    {
      "metadata": {
        "id": "Yao6xTtVa83o",
        "colab_type": "text"
      },
      "cell_type": "markdown",
      "source": [
        "## クロスバリデーション"
      ]
    },
    {
      "metadata": {
        "id": "OsIAnALkax29",
        "colab_type": "code",
        "colab": {}
      },
      "cell_type": "code",
      "source": [
        "from sklearn import cross_validation as cv\n",
        "from sklearn import preprocessing"
      ],
      "execution_count": 0,
      "outputs": []
    },
    {
      "metadata": {
        "id": "yBtrx7JjbB0u",
        "colab_type": "code",
        "colab": {
          "base_uri": "https://localhost:8080/",
          "height": 187
        },
        "outputId": "b8c3761e-8a33-4d04-d171-935a3c33cea0"
      },
      "cell_type": "code",
      "source": [
        "# 層別k分割\n",
        "skf = cv.StratifiedKFold(y_train, 10)\n",
        "\n",
        "# 各分割における訓練データ、テストデータの行番号の表示\n",
        "for train, test in skf:\n",
        "    print(\"%s %s\" % (train, test))"
      ],
      "execution_count": 57,
      "outputs": [
        {
          "output_type": "stream",
          "text": [
            "[ 3084  3098  3120 ... 31644 31645 31646] [   0    1    2 ... 3177 3178 3180]\n",
            "[    0     1     2 ... 31644 31645 31646] [3084 3098 3120 ... 6367 6368 6369]\n",
            "[    0     1     2 ... 31644 31645 31646] [6071 6075 6076 ... 9539 9540 9541]\n",
            "[    0     1     2 ... 31644 31645 31646] [ 9168  9173  9187 ... 12759 12760 12761]\n",
            "[    0     1     2 ... 31644 31645 31646] [11997 11998 12004 ... 15895 15896 15897]\n",
            "[    0     1     2 ... 31644 31645 31646] [15222 15231 15238 ... 19059 19062 19063]\n",
            "[    0     1     2 ... 31644 31645 31646] [18552 18585 18587 ... 22204 22205 22206]\n",
            "[    0     1     2 ... 31644 31645 31646] [21659 21662 21671 ... 25345 25346 25347]\n",
            "[    0     1     2 ... 31644 31645 31646] [25106 25138 25143 ... 28502 28503 28504]\n",
            "[    0     1     2 ... 28502 28503 28504] [28269 28282 28288 ... 31644 31645 31646]\n"
          ],
          "name": "stdout"
        }
      ]
    },
    {
      "metadata": {
        "id": "P568G8thbCib",
        "colab_type": "code",
        "colab": {}
      },
      "cell_type": "code",
      "source": [
        "# RBFカーネルのサポートベクターマシン\n",
        "clf = svm.SVC()\n",
        "# クラスラベルを1, 0に変換\n",
        "lb = preprocessing.LabelBinarizer()\n",
        "y_train_bin = lb.fit_transform(y_train).ravel()"
      ],
      "execution_count": 0,
      "outputs": []
    },
    {
      "metadata": {
        "id": "0RSqLmMBbEm-",
        "colab_type": "code",
        "colab": {
          "base_uri": "https://localhost:8080/",
          "height": 51
        },
        "outputId": "839ce3bd-9ddf-4a1d-bcd5-ecf57385ef5d"
      },
      "cell_type": "code",
      "source": [
        "# クロスバリデーションによる評価指標\n",
        "cv.cross_val_score(clf, x_train, y_train_bin, cv=skf, scoring='f1')"
      ],
      "execution_count": 59,
      "outputs": [
        {
          "output_type": "execute_result",
          "data": {
            "text/plain": [
              "array([0.36329588, 0.38420108, 0.36111111, 0.38185255, 0.40740741,\n",
              "       0.38931298, 0.39344262, 0.41666667, 0.38888889, 0.38356164])"
            ]
          },
          "metadata": {
            "tags": []
          },
          "execution_count": 59
        }
      ]
    },
    {
      "metadata": {
        "id": "OZigJi1zbFot",
        "colab_type": "code",
        "colab": {
          "base_uri": "https://localhost:8080/",
          "height": 136
        },
        "outputId": "a0db1930-a6b1-4d19-eb6b-69ece8f85d16"
      },
      "cell_type": "code",
      "source": [
        "# クロスバリデーションによる予測結果\n",
        "pred = cv.cross_val_predict(clf, x_train, y_train, cv=skf)\n",
        "print(classification_report(y_train, pred, target_names=['no', 'yes']))"
      ],
      "execution_count": 60,
      "outputs": [
        {
          "output_type": "stream",
          "text": [
            "             precision    recall  f1-score   support\n",
            "\n",
            "         no       0.91      0.98      0.94     27924\n",
            "        yes       0.65      0.28      0.39      3723\n",
            "\n",
            "avg / total       0.88      0.90      0.88     31647\n",
            "\n"
          ],
          "name": "stdout"
        }
      ]
    },
    {
      "metadata": {
        "id": "0wX7G8-pbGdp",
        "colab_type": "text"
      },
      "cell_type": "markdown",
      "source": [
        "## Grid Search"
      ]
    },
    {
      "metadata": {
        "id": "ySOJ2sgvbJIj",
        "colab_type": "code",
        "colab": {
          "base_uri": "https://localhost:8080/",
          "height": 71
        },
        "outputId": "b9ded2fc-4231-4598-bfe9-85e3b0bc9578"
      },
      "cell_type": "code",
      "source": [
        "from sklearn import grid_search as gs"
      ],
      "execution_count": 61,
      "outputs": [
        {
          "output_type": "stream",
          "text": [
            "/usr/local/lib/python3.6/dist-packages/sklearn/grid_search.py:42: DeprecationWarning: This module was deprecated in version 0.18 in favor of the model_selection module into which all the refactored classes and functions are moved. This module will be removed in 0.20.\n",
            "  DeprecationWarning)\n"
          ],
          "name": "stderr"
        }
      ]
    },
    {
      "metadata": {
        "id": "0vcC3wgWbqBg",
        "colab_type": "code",
        "colab": {
          "base_uri": "https://localhost:8080/",
          "height": 153
        },
        "outputId": "d0554d58-d7e8-4f57-bc06-8e8df647f0fc"
      },
      "cell_type": "code",
      "source": [
        "# 探索するハイパーパラメータの範囲\n",
        "param_grid = [\n",
        "    {'C': [0.5, 1], 'gamma': [0.05, 0.1]}\n",
        "]\n",
        "\n",
        "#各ハイパーパラメータに対するGrid Searchの実行\n",
        "svc = svm.SVC()\n",
        "clf = gs.GridSearchCV(svc, param_grid, cv=10)\n",
        "clf.fit(x_train, y_train)"
      ],
      "execution_count": 62,
      "outputs": [
        {
          "output_type": "execute_result",
          "data": {
            "text/plain": [
              "GridSearchCV(cv=10, error_score='raise',\n",
              "       estimator=SVC(C=1.0, cache_size=200, class_weight=None, coef0=0.0,\n",
              "  decision_function_shape='ovr', degree=3, gamma='auto', kernel='rbf',\n",
              "  max_iter=-1, probability=False, random_state=None, shrinking=True,\n",
              "  tol=0.001, verbose=False),\n",
              "       fit_params={}, iid=True, n_jobs=1,\n",
              "       param_grid=[{'C': [0.5, 1], 'gamma': [0.05, 0.1]}],\n",
              "       pre_dispatch='2*n_jobs', refit=True, scoring=None, verbose=0)"
            ]
          },
          "metadata": {
            "tags": []
          },
          "execution_count": 62
        }
      ]
    },
    {
      "metadata": {
        "id": "ZAvYWg80buE6",
        "colab_type": "code",
        "colab": {
          "base_uri": "https://localhost:8080/",
          "height": 136
        },
        "outputId": "eb2e2bb0-ec8a-4457-8b2a-45fd5c9a5ab6"
      },
      "cell_type": "code",
      "source": [
        "pred = clf.predict(x_test)\n",
        "print(classification_report(y_test, pred, target_names=['no', 'yes']))"
      ],
      "execution_count": 63,
      "outputs": [
        {
          "output_type": "stream",
          "text": [
            "             precision    recall  f1-score   support\n",
            "\n",
            "         no       0.92      0.98      0.95     11998\n",
            "        yes       0.66      0.35      0.46      1566\n",
            "\n",
            "avg / total       0.89      0.90      0.89     13564\n",
            "\n"
          ],
          "name": "stdout"
        }
      ]
    },
    {
      "metadata": {
        "id": "MYez3UR9b_zT",
        "colab_type": "code",
        "colab": {}
      },
      "cell_type": "code",
      "source": [
        ""
      ],
      "execution_count": 0,
      "outputs": []
    }
  ]
}